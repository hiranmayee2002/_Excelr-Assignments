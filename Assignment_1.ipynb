{
  "nbformat": 4,
  "nbformat_minor": 0,
  "metadata": {
    "colab": {
      "provenance": []
    },
    "kernelspec": {
      "name": "python3",
      "display_name": "Python 3"
    },
    "language_info": {
      "name": "python"
    }
  },
  "cells": [
    {
      "cell_type": "code",
      "execution_count": null,
      "metadata": {
        "id": "HAO1kFDviXiK"
      },
      "outputs": [],
      "source": []
    },
    {
      "cell_type": "markdown",
      "source": [
        "Create an identity matrix of dimension 4-by-4"
      ],
      "metadata": {
        "id": "roOt0Bukig_r"
      }
    },
    {
      "cell_type": "code",
      "source": [
        "import numpy as np\n",
        "\n",
        "identity_matrix = np.identity(4)\n",
        "print(identity_matrix)\n"
      ],
      "metadata": {
        "colab": {
          "base_uri": "https://localhost:8080/"
        },
        "id": "D2RKYkmxiiTa",
        "outputId": "dfd4598b-a82e-47b5-8ef2-87fe945a7efa"
      },
      "execution_count": 1,
      "outputs": [
        {
          "output_type": "stream",
          "name": "stdout",
          "text": [
            "[[1. 0. 0. 0.]\n",
            " [0. 1. 0. 0.]\n",
            " [0. 0. 1. 0.]\n",
            " [0. 0. 0. 1.]]\n"
          ]
        }
      ]
    },
    {
      "cell_type": "markdown",
      "source": [
        "Convert a 1-D array to a 3-D array"
      ],
      "metadata": {
        "id": "l-eV_sLzjhw7"
      }
    },
    {
      "cell_type": "code",
      "source": [
        "import numpy as np\n",
        "\n",
        "one_d_array = np.array([1, 2, 3, 4, 5, 6, 7, 8, 9])\n",
        "\n",
        "three_d_array = one_d_array.reshape((3, 1, 3))\n",
        "\n",
        "print(three_d_array)\n"
      ],
      "metadata": {
        "colab": {
          "base_uri": "https://localhost:8080/"
        },
        "id": "mhOF9ycmjkkd",
        "outputId": "0bfa9553-28e2-4b26-f932-7e33141155ce"
      },
      "execution_count": 2,
      "outputs": [
        {
          "output_type": "stream",
          "name": "stdout",
          "text": [
            "[[[1 2 3]]\n",
            "\n",
            " [[4 5 6]]\n",
            "\n",
            " [[7 8 9]]]\n"
          ]
        }
      ]
    },
    {
      "cell_type": "markdown",
      "source": [
        "Convert all the elements of a numpy array from float to integer datatype\n",
        "0"
      ],
      "metadata": {
        "id": "RCtnEZuEj6uD"
      }
    },
    {
      "cell_type": "code",
      "source": [
        "import numpy as np\n",
        "\n",
        "float_array = np.array([1.1, 2.2, 3.3, 4.4, 5.5])\n",
        "\n",
        "int_array = float_array.astype(int)\n",
        "\n",
        "print(int_array)\n"
      ],
      "metadata": {
        "colab": {
          "base_uri": "https://localhost:8080/"
        },
        "id": "6pa4tf7lj9iX",
        "outputId": "d76a49b6-dfcd-4756-eb0f-f1ca768d1f08"
      },
      "execution_count": 3,
      "outputs": [
        {
          "output_type": "stream",
          "name": "stdout",
          "text": [
            "[1 2 3 4 5]\n"
          ]
        }
      ]
    },
    {
      "cell_type": "markdown",
      "source": [
        "Given a numpy array (matrix), how to get a numpy array output which is equal to the\n",
        "original matrix multiplied by a scalar?"
      ],
      "metadata": {
        "id": "Kfl_ZqW1kOHY"
      }
    },
    {
      "cell_type": "code",
      "source": [
        "import numpy as np\n",
        "\n",
        "matrix = np.array([[1, 2], [3, 4]])\n",
        "\n",
        "scalar = 3\n",
        "\n",
        "result = matrix * scalar\n",
        "\n",
        "print(result)\n"
      ],
      "metadata": {
        "colab": {
          "base_uri": "https://localhost:8080/"
        },
        "id": "MDQiudipkQg6",
        "outputId": "2f7ed656-759e-4ed9-af35-1be95494b734"
      },
      "execution_count": 4,
      "outputs": [
        {
          "output_type": "stream",
          "name": "stdout",
          "text": [
            "[[ 3  6]\n",
            " [ 9 12]]\n"
          ]
        }
      ]
    },
    {
      "cell_type": "markdown",
      "source": [
        "Given are 2 similar dimensional numpy arrays, how to get a numpy array output in\n",
        "which every element is an element-wise sum of the 2 numpy arrays?"
      ],
      "metadata": {
        "id": "j9C5H3edkdSJ"
      }
    },
    {
      "cell_type": "code",
      "source": [
        "import numpy as np\n",
        "\n",
        "array1 = np.array([[1, 2, 3], [4, 5, 6]])\n",
        "array2 = np.array([[7, 8, 9], [10, 11, 12]])\n",
        "\n",
        "result = array1 + array2\n",
        "\n",
        "print(result)\n"
      ],
      "metadata": {
        "colab": {
          "base_uri": "https://localhost:8080/"
        },
        "id": "6GU0M-h5kfw4",
        "outputId": "6de6ca12-543b-451f-f9d2-e11919b51c1c"
      },
      "execution_count": 5,
      "outputs": [
        {
          "output_type": "stream",
          "name": "stdout",
          "text": [
            "[[ 8 10 12]\n",
            " [14 16 18]]\n"
          ]
        }
      ]
    },
    {
      "cell_type": "markdown",
      "source": [
        "Convert a binary numpy array (containing only 0s and 1s) to a boolean numpy array"
      ],
      "metadata": {
        "id": "ABpCaA79kqOW"
      }
    },
    {
      "cell_type": "code",
      "source": [
        "import numpy as np\n",
        "\n",
        "binary_array = np.array([0, 1, 0, 1, 1, 0])\n",
        "\n",
        "boolean_array = binary_array.astype(bool)\n",
        "\n",
        "print(boolean_array)\n"
      ],
      "metadata": {
        "colab": {
          "base_uri": "https://localhost:8080/"
        },
        "id": "oRwSACmBkwG7",
        "outputId": "754ff01e-3584-4c23-e5d9-a83baf1b73b3"
      },
      "execution_count": 6,
      "outputs": [
        {
          "output_type": "stream",
          "name": "stdout",
          "text": [
            "[False  True False  True  True False]\n"
          ]
        }
      ]
    },
    {
      "cell_type": "markdown",
      "source": [
        "Stack 2 numpy arrays horizontally i.e., 2 arrays having the same 1st dimension (number\n",
        "of rows in 2D arrays)"
      ],
      "metadata": {
        "id": "6CdOIZx_k-DW"
      }
    },
    {
      "cell_type": "code",
      "source": [
        "import numpy as np\n",
        "\n",
        "array1 = np.array([[1, 2, 3], [4, 5, 6]])\n",
        "array2 = np.array([[7, 8, 9], [10, 11, 12]])\n",
        "\n",
        "result_hstack = np.hstack((array1, array2))\n",
        "\n",
        "result_concatenate = np.concatenate((array1, array2), axis=1)\n",
        "\n",
        "print(\"Result using hstack:\\n\", result_hstack)\n",
        "print(\"Result using concatenate:\\n\", result_concatenate)\n"
      ],
      "metadata": {
        "id": "URH0Sz29lDHI",
        "colab": {
          "base_uri": "https://localhost:8080/"
        },
        "outputId": "5b8c4b7f-0242-42cb-8822-e978aa89a7cd"
      },
      "execution_count": 7,
      "outputs": [
        {
          "output_type": "stream",
          "name": "stdout",
          "text": [
            "Result using hstack:\n",
            " [[ 1  2  3  7  8  9]\n",
            " [ 4  5  6 10 11 12]]\n",
            "Result using concatenate:\n",
            " [[ 1  2  3  7  8  9]\n",
            " [ 4  5  6 10 11 12]]\n"
          ]
        }
      ]
    },
    {
      "cell_type": "markdown",
      "source": [
        "Stack 2 numpy arrays vertically i.e., 2 arrays having the same last dimension (number\n",
        "of columns in 2D arrays)"
      ],
      "metadata": {
        "id": "wvwOHyK9mGSL"
      }
    },
    {
      "cell_type": "code",
      "source": [
        "import numpy as np\n",
        "\n",
        "array1 = np.array([[1, 2, 3], [4, 5, 6]])\n",
        "array2 = np.array([[7, 8, 9], [10, 11, 12]])\n",
        "\n",
        "result_vstack = np.vstack((array1, array2))\n",
        "\n",
        "result_concatenate = np.concatenate((array1, array2), axis=0)\n",
        "\n",
        "print(\"Result using vstack:\\n\", result_vstack)\n",
        "print(\"Result using concatenate:\\n\", result_concatenate)\n"
      ],
      "metadata": {
        "colab": {
          "base_uri": "https://localhost:8080/"
        },
        "id": "kD4agWVpmah5",
        "outputId": "7d2cd61e-18f3-4922-f2a5-bf41a43618b9"
      },
      "execution_count": 8,
      "outputs": [
        {
          "output_type": "stream",
          "name": "stdout",
          "text": [
            "Result using vstack:\n",
            " [[ 1  2  3]\n",
            " [ 4  5  6]\n",
            " [ 7  8  9]\n",
            " [10 11 12]]\n",
            "Result using concatenate:\n",
            " [[ 1  2  3]\n",
            " [ 4  5  6]\n",
            " [ 7  8  9]\n",
            " [10 11 12]]\n"
          ]
        }
      ]
    },
    {
      "cell_type": "markdown",
      "source": [
        "Generate a sequence of numbers in the form of a numpy array from 0 to 100 with gaps\n",
        "of 2 numbers\n"
      ],
      "metadata": {
        "id": "Jq01lZ8Omhxr"
      }
    },
    {
      "cell_type": "code",
      "source": [
        "import numpy as np\n",
        "\n",
        "sequence = np.arange(0, 101, 3)\n",
        "\n",
        "print(sequence)\n"
      ],
      "metadata": {
        "colab": {
          "base_uri": "https://localhost:8080/"
        },
        "id": "nd6G0-rTmlVh",
        "outputId": "199dea6f-432c-4db2-b62a-0584fc6016f6"
      },
      "execution_count": 9,
      "outputs": [
        {
          "output_type": "stream",
          "name": "stdout",
          "text": [
            "[ 0  3  6  9 12 15 18 21 24 27 30 33 36 39 42 45 48 51 54 57 60 63 66 69\n",
            " 72 75 78 81 84 87 90 93 96 99]\n"
          ]
        }
      ]
    },
    {
      "cell_type": "markdown",
      "source": [
        "From 2 numpy arrays, extract the indexes in which the elements in the 2 arrays match"
      ],
      "metadata": {
        "id": "9qZWhZc5nhiw"
      }
    },
    {
      "cell_type": "code",
      "source": [
        "import numpy as np\n",
        "\n",
        "array1 = np.array([10, 20, 30, 40, 50, 60])\n",
        "array2 = np.array([5, 20, 35, 40, 55, 60])\n",
        "\n",
        "matching_indexes = np.where(array1 == array2)[0]\n",
        "\n",
        "print(\"Matching indexes:\", matching_indexes)\n"
      ],
      "metadata": {
        "colab": {
          "base_uri": "https://localhost:8080/"
        },
        "id": "c0aNfEBAne0h",
        "outputId": "d969e4f4-e661-44e4-916d-19786cd6e413"
      },
      "execution_count": 10,
      "outputs": [
        {
          "output_type": "stream",
          "name": "stdout",
          "text": [
            "Matching indexes: [1 3 5]\n"
          ]
        }
      ]
    },
    {
      "cell_type": "markdown",
      "source": [
        "Output a sequence of equally gapped 5 numbers in the range 0 to 100 (both inclusive)"
      ],
      "metadata": {
        "id": "5ajKn2FPoHNQ"
      }
    },
    {
      "cell_type": "code",
      "source": [
        "import numpy as np\n",
        "\n",
        "sequence = np.linspace(0, 100, 5, dtype=int)\n",
        "\n",
        "print(\"Sequence of equally gapped numbers:\", sequence)\n"
      ],
      "metadata": {
        "colab": {
          "base_uri": "https://localhost:8080/"
        },
        "id": "DYlSe5zmoIWH",
        "outputId": "6ceff192-fb99-47b0-b8cd-65150ed2d353"
      },
      "execution_count": 11,
      "outputs": [
        {
          "output_type": "stream",
          "name": "stdout",
          "text": [
            "Sequence of equally gapped numbers: [  0  25  50  75 100]\n"
          ]
        }
      ]
    },
    {
      "cell_type": "markdown",
      "source": [
        "Output a matrix (numpy array) of dimension 2-by-3 with each and every value equal to 5"
      ],
      "metadata": {
        "id": "6L1g6rpboPvx"
      }
    },
    {
      "cell_type": "code",
      "source": [
        "import numpy as np\n",
        "\n",
        "matrix = np.full((2, 3), 5)\n",
        "\n",
        "print(\"2-by-3 matrix with each value equal to 5:\")\n",
        "print(matrix)\n"
      ],
      "metadata": {
        "colab": {
          "base_uri": "https://localhost:8080/"
        },
        "id": "5-ZG_a1uoVFH",
        "outputId": "47694165-92f4-40e2-fb3b-6a9a9ba2734f"
      },
      "execution_count": 12,
      "outputs": [
        {
          "output_type": "stream",
          "name": "stdout",
          "text": [
            "2-by-3 matrix with each value equal to 5:\n",
            "[[5 5 5]\n",
            " [5 5 5]]\n"
          ]
        }
      ]
    },
    {
      "cell_type": "markdown",
      "source": [
        "Output an array by repeating a smaller array of 2 dimensions, 10 times"
      ],
      "metadata": {
        "id": "Lz3_RjxgoxT1"
      }
    },
    {
      "cell_type": "code",
      "source": [
        "import numpy as np\n",
        "\n",
        "small_array = np.array([[1, 2], [3, 4]])\n",
        "\n",
        "repeated_array = np.tile(small_array, (10, 1))\n",
        "\n",
        "print(\"Array after repeating the smaller array 10 times:\")\n",
        "print(repeated_array)\n"
      ],
      "metadata": {
        "colab": {
          "base_uri": "https://localhost:8080/"
        },
        "id": "hh730so4o1Jl",
        "outputId": "410882c2-6b44-4550-b677-55a2f8d2164f"
      },
      "execution_count": 13,
      "outputs": [
        {
          "output_type": "stream",
          "name": "stdout",
          "text": [
            "Array after repeating the smaller array 10 times:\n",
            "[[1 2]\n",
            " [3 4]\n",
            " [1 2]\n",
            " [3 4]\n",
            " [1 2]\n",
            " [3 4]\n",
            " [1 2]\n",
            " [3 4]\n",
            " [1 2]\n",
            " [3 4]\n",
            " [1 2]\n",
            " [3 4]\n",
            " [1 2]\n",
            " [3 4]\n",
            " [1 2]\n",
            " [3 4]\n",
            " [1 2]\n",
            " [3 4]\n",
            " [1 2]\n",
            " [3 4]]\n"
          ]
        }
      ]
    },
    {
      "cell_type": "markdown",
      "source": [
        "Output a 10-by-10 array of random integers between 0 (inclusive) and 10 (exclusive)"
      ],
      "metadata": {
        "id": "9gFRzqAnpCGG"
      }
    },
    {
      "cell_type": "code",
      "source": [
        "import numpy as np\n",
        "\n",
        "random_array = np.random.randint(0, 10, size=(10, 10))\n",
        "\n",
        "print(\"10-by-10 array of random integers between 0 and 9:\")\n",
        "print(random_array)\n"
      ],
      "metadata": {
        "colab": {
          "base_uri": "https://localhost:8080/"
        },
        "id": "BJNXa3yzpIYD",
        "outputId": "49cf2f51-f356-4d7d-d31f-a4f610470d16"
      },
      "execution_count": 14,
      "outputs": [
        {
          "output_type": "stream",
          "name": "stdout",
          "text": [
            "10-by-10 array of random integers between 0 and 9:\n",
            "[[5 7 0 2 3 2 3 8 3 9]\n",
            " [0 6 8 9 0 2 1 5 8 1]\n",
            " [8 1 5 2 8 7 0 7 3 0]\n",
            " [8 0 7 6 4 1 3 7 1 0]\n",
            " [5 5 6 9 2 1 8 6 9 5]\n",
            " [0 1 6 8 6 5 0 4 1 9]\n",
            " [1 8 3 3 5 4 8 3 6 1]\n",
            " [4 3 0 7 9 4 0 2 2 4]\n",
            " [1 1 3 0 9 0 7 2 8 9]\n",
            " [5 4 4 5 9 3 0 2 7 8]]\n"
          ]
        }
      ]
    },
    {
      "cell_type": "markdown",
      "source": [
        "Given 2 numpy arrays as matrices, output the result of multiplying the 2 matrices (as a\n",
        "numpy array)"
      ],
      "metadata": {
        "id": "FVsF2UyNphv1"
      }
    },
    {
      "cell_type": "code",
      "source": [
        "import numpy as np\n",
        "\n",
        "matrix1 = np.array([[1, 2, 3],\n",
        "                    [4, 5, 6]])\n",
        "\n",
        "matrix2 = np.array([[7, 8],\n",
        "                    [9, 10],\n",
        "                    [11, 12]])\n",
        "\n",
        "result = matrix1 @ matrix2\n",
        "\n",
        "print(\"Result of multiplying the two matrices:\")\n",
        "print(result)\n"
      ],
      "metadata": {
        "colab": {
          "base_uri": "https://localhost:8080/"
        },
        "id": "a85n0y7Vp0tW",
        "outputId": "71362b20-3a02-4808-b8c5-d8b18284c34b"
      },
      "execution_count": 15,
      "outputs": [
        {
          "output_type": "stream",
          "name": "stdout",
          "text": [
            "Result of multiplying the two matrices:\n",
            "[[ 58  64]\n",
            " [139 154]]\n"
          ]
        }
      ]
    },
    {
      "cell_type": "markdown",
      "source": [
        "Output the transpose of a matrix (as numpy array)"
      ],
      "metadata": {
        "id": "Ndy9wx7tqObK"
      }
    },
    {
      "cell_type": "code",
      "source": [
        "import numpy as np\n",
        "\n",
        "matrix = np.array([[1, 2, 3],\n",
        "                   [4, 5, 6]])\n",
        "\n",
        "transpose_matrix = np.transpose(matrix)\n",
        "\n",
        "print(\"Original matrix:\")\n",
        "print(matrix)\n",
        "\n",
        "print(\"Transpose of the matrix:\")\n",
        "print(transpose_matrix)\n"
      ],
      "metadata": {
        "colab": {
          "base_uri": "https://localhost:8080/"
        },
        "id": "MwjtvqdlqPK-",
        "outputId": "d3ba4fa6-6490-458b-a9f3-ce3ae67253b3"
      },
      "execution_count": 16,
      "outputs": [
        {
          "output_type": "stream",
          "name": "stdout",
          "text": [
            "Original matrix:\n",
            "[[1 2 3]\n",
            " [4 5 6]]\n",
            "Transpose of the matrix:\n",
            "[[1 4]\n",
            " [2 5]\n",
            " [3 6]]\n"
          ]
        }
      ]
    },
    {
      "cell_type": "markdown",
      "source": [
        "Output the array element indexes such that the array elements appear in the ascending\n",
        "order"
      ],
      "metadata": {
        "id": "-RqHCvTZqU6r"
      }
    },
    {
      "cell_type": "code",
      "source": [
        "import numpy as np\n",
        "\n",
        "array = np.array([10, 5, 8, 12, 7])\n",
        "\n",
        "sorted_indices = np.argsort(array)\n",
        "\n",
        "print(\"Original array:\")\n",
        "print(array)\n",
        "\n",
        "print(\"Indices that would sort the array in ascending order:\")\n",
        "print(sorted_indices)\n",
        "\n",
        "print(\"Array elements in ascending order:\")\n",
        "print(array[sorted_indices])\n"
      ],
      "metadata": {
        "colab": {
          "base_uri": "https://localhost:8080/"
        },
        "id": "Pki_7kkTqXrt",
        "outputId": "cfc20854-2ffc-4203-babf-364e8b2d3bb7"
      },
      "execution_count": 17,
      "outputs": [
        {
          "output_type": "stream",
          "name": "stdout",
          "text": [
            "Original array:\n",
            "[10  5  8 12  7]\n",
            "Indices that would sort the array in ascending order:\n",
            "[1 4 2 0 3]\n",
            "Array elements in ascending order:\n",
            "[ 5  7  8 10 12]\n"
          ]
        }
      ]
    },
    {
      "cell_type": "code",
      "source": [],
      "metadata": {
        "id": "P73JtdEx1rLd"
      },
      "execution_count": null,
      "outputs": []
    }
  ]
}